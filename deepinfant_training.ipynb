{
    "cells": [
     {
      "cell_type": "markdown",
      "metadata": {},
      "source": [
       "# DeepInfant: Infant Cry Classification\n",
       "\n",
       "This notebook demonstrates how to train and evaluate the DeepInfant model for infant cry classification."
      ]
     },
     {
      "cell_type": "code",
      "execution_count": null,
      "metadata": {},
      "source": [
       "import torch\n",
       "import matplotlib.pyplot as plt\n",
       "from train import DeepInfantModel, DeepInfantDataset\n",
       "from torch.utils.data import DataLoader\n",
       "import seaborn as sns\n",
       "from sklearn.metrics import confusion_matrix\n",
       "import numpy as np"
      ]
     },
     {
      "cell_type": "markdown",
      "metadata": {},
      "source": [
       "## 1. Data Preparation"
      ]
     },
     {
      "cell_type": "code",
      "execution_count": null,
      "metadata": {},
      "source": [
       "# Create dataset\n",
       "dataset = DeepInfantDataset('Data/v2')\n",
       "train_size = int(0.8 * len(dataset))\n",
       "val_size = len(dataset) - train_size\n",
       "train_dataset, val_dataset = torch.utils.data.random_split(dataset, [train_size, val_size])\n",
       "\n",
       "# Create data loaders\n",
       "train_loader = DataLoader(train_dataset, batch_size=32, shuffle=True, num_workers=4)\n",
       "val_loader = DataLoader(val_dataset, batch_size=32, shuffle=False, num_workers=4)"
      ]
     },
     {
      "cell_type": "markdown",
      "metadata": {},
      "source": [
       "## 2. Model Training"
      ]
     },
     {
      "cell_type": "code",
      "execution_count": null,
      "metadata": {},
      "source": [
       "# Initialize model and training components\n",
       "device = torch.device('cuda' if torch.cuda.is_available() else 'cpu')\n",
       "model = DeepInfantModel().to(device)\n",
       "criterion = torch.nn.CrossEntropyLoss()\n",
       "optimizer = torch.optim.Adam(model.parameters(), lr=0.001)\n",
       "\n",
       "# Training history\n",
       "history = {\n",
       "    'train_loss': [],\n",
       "    'train_acc': [],\n",
       "    'val_loss': [],\n",
       "    'val_acc': []\n",
       "}"
      ]
     },
     {
      "cell_type": "code",
      "execution_count": null,
      "metadata": {},
      "source": [
       "from train import train_model\n",
       "\n",
       "# Train the model\n",
       "train_model(model, train_loader, val_loader, criterion, optimizer, num_epochs=50, device=device)"
      ]
     },
     {
      "cell_type": "markdown",
      "metadata": {},
      "source": [
       "## 3. Model Evaluation"
      ]
     },
     {
      "cell_type": "code",
      "execution_count": null,
      "metadata": {},
      "source": [
       "def plot_training_history(history):\n",
       "    plt.figure(figsize=(12, 4))\n",
       "    \n",
       "    plt.subplot(1, 2, 1)\n",
       "    plt.plot(history['train_loss'], label='Train')\n",
       "    plt.plot(history['val_loss'], label='Validation')\n",
       "    plt.title('Loss')\n",
       "    plt.xlabel('Epoch')\n",
       "    plt.legend()\n",
       "    \n",
       "    plt.subplot(1, 2, 2)\n",
       "    plt.plot(history['train_acc'], label='Train')\n",
       "    plt.plot(history['val_acc'], label='Validation')\n",
       "    plt.title('Accuracy')\n",
       "    plt.xlabel('Epoch')\n",
       "    plt.legend()\n",
       "    \n",
       "    plt.tight_layout()\n",
       "    plt.show()\n",
       "\n",
       "plot_training_history(history)"
      ]
     },
     {
      "cell_type": "markdown",
      "metadata": {},
      "source": [
       "## 4. Confusion Matrix"
      ]
     },
     {
      "cell_type": "code",
      "execution_count": null,
      "metadata": {},
      "source": [
       "def plot_confusion_matrix(model, val_loader, device):\n",
       "    model.eval()\n",
       "    all_preds = []\n",
       "    all_labels = []\n",
       "    \n",
       "    with torch.no_grad():\n",
       "        for inputs, labels in val_loader:\n",
       "            inputs = inputs.unsqueeze(1).to(device)\n",
       "            outputs = model(inputs)\n",
       "            _, preds = outputs.max(1)\n",
       "            all_preds.extend(preds.cpu().numpy())\n",
       "            all_labels.extend(labels.numpy())\n",
       "    \n",
       "    cm = confusion_matrix(all_labels, all_preds)\n",
       "    plt.figure(figsize=(10, 8))\n",
       "    sns.heatmap(cm, annot=True, fmt='d', cmap='Blues')\n",
       "    plt.title('Confusion Matrix')\n",
       "    plt.xlabel('Predicted')\n",
       "    plt.ylabel('True')\n",
       "    plt.show()\n",
       "\n",
       "plot_confusion_matrix(model, val_loader, device)"
      ]
     },
     {
      "cell_type": "markdown",
      "metadata": {},
      "source": [
       "## 5. Test Predictions"
      ]
     },
     {
      "cell_type": "code",
      "execution_count": null,
      "metadata": {},
      "source": [
       "from predict import InfantCryPredictor\n",
       "\n",
       "predictor = InfantCryPredictor('deepinfant.pth')\n",
       "\n",
       "# Test on a single file\n",
       "test_file = \"path/to/test/audio.wav\"\n",
       "label, confidence = predictor.predict(test_file)\n",
       "print(f\"Prediction: {label} (Confidence: {confidence:.2%})\")"
      ]
     }
    ],
    "metadata": {
     "kernelspec": {
      "display_name": "Python 3",
      "language": "python",
      "name": "python3"
     }
    },
    "nbformat": 4,
    "nbformat_minor": 4
   }